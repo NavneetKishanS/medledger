{
 "cells": [
  {
   "cell_type": "markdown",
   "metadata": {},
   "source": [
    "Dependencies"
   ]
  },
  {
   "cell_type": "code",
   "execution_count": 1,
   "metadata": {
    "_cell_guid": "b1076dfc-b9ad-4769-8c92-a6c4dae69d19",
    "_uuid": "8f2839f25d086af736a60e9eeb907d3b93b6e0e5",
    "execution": {
     "iopub.execute_input": "2025-04-09T09:23:16.638475Z",
     "iopub.status.busy": "2025-04-09T09:23:16.638109Z",
     "iopub.status.idle": "2025-04-09T09:23:18.186184Z",
     "shell.execute_reply": "2025-04-09T09:23:18.185030Z",
     "shell.execute_reply.started": "2025-04-09T09:23:16.638449Z"
    },
    "trusted": true
   },
   "outputs": [],
   "source": [
    "import numpy as np\n",
    "import pandas as pd\n",
    "import matplotlib.pyplot as plt\n",
    "from sklearn.ensemble import IsolationForest\n",
    "\n",
    "np.random.seed(42)\n"
   ]
  },
  {
   "cell_type": "markdown",
   "metadata": {},
   "source": [
    "Synthetic Data Gen"
   ]
  },
  {
   "cell_type": "code",
   "execution_count": 2,
   "metadata": {
    "execution": {
     "iopub.execute_input": "2025-04-09T09:23:18.187684Z",
     "iopub.status.busy": "2025-04-09T09:23:18.187275Z",
     "iopub.status.idle": "2025-04-09T09:23:18.213229Z",
     "shell.execute_reply": "2025-04-09T09:23:18.212031Z",
     "shell.execute_reply.started": "2025-04-09T09:23:18.187658Z"
    },
    "trusted": true
   },
   "outputs": [
    {
     "name": "stdout",
     "output_type": "stream",
     "text": [
      "First 5 rows of the normal data:\n",
      "   heart_rate       spo2  temperature\n",
      "0   50.921924  96.136506    36.788120\n",
      "1   61.396150  96.968797    36.773293\n",
      "2   65.863945  97.018017    36.102178\n",
      "3   88.876877  97.472630    36.834955\n",
      "4   75.565531  95.633142    37.366415\n"
     ]
    }
   ],
   "source": [
    "n_samples = 1000\n",
    "\n",
    "heart_rate_normal = np.random.normal(loc=70, scale=10, size=n_samples)\n",
    "spo2_normal = np.random.normal(loc=97, scale=1, size=n_samples)\n",
    "temp_normal = np.random.normal(loc=37.0, scale=0.5, size=n_samples)\n",
    "\n",
    "df = pd.DataFrame({\n",
    "    'heart_rate': np.random.normal(70, 10, 1000),\n",
    "    'spo2': np.random.normal(97, 1, 1000),\n",
    "    'temperature': np.random.normal(37.0, 0.5, 1000)\n",
    "})\n",
    "\n",
    "print(\"First 5 rows of the normal data:\")\n",
    "print(df.head())\n"
   ]
  },
  {
   "cell_type": "markdown",
   "metadata": {},
   "source": [
    "Anomaly injection"
   ]
  },
  {
   "cell_type": "code",
   "execution_count": 3,
   "metadata": {
    "execution": {
     "iopub.execute_input": "2025-04-09T09:23:18.215206Z",
     "iopub.status.busy": "2025-04-09T09:23:18.214835Z",
     "iopub.status.idle": "2025-04-09T09:23:18.240495Z",
     "shell.execute_reply": "2025-04-09T09:23:18.239379Z",
     "shell.execute_reply.started": "2025-04-09T09:23:18.215172Z"
    },
    "trusted": true
   },
   "outputs": [
    {
     "name": "stdout",
     "output_type": "stream",
     "text": [
      "Injected 50 anomalies into the dataset.\n"
     ]
    }
   ],
   "source": [
    "\n",
    "anomaly_rate = 0.05\n",
    "n_anomalies = int(anomaly_rate * n_samples)\n",
    "\n",
    "anomalous_indices = np.random.choice(df.index, n_anomalies, replace=False)\n",
    "\n",
    "for idx in anomalous_indices:\n",
    "    if np.random.rand() < 0.5:\n",
    "        df.loc[idx, 'heart_rate'] = np.random.randint(120, 160)  # High HR\n",
    "    else:\n",
    "        df.loc[idx, 'heart_rate'] = np.random.randint(30, 50)    # Low HR\n",
    "    \n",
    "    df.loc[idx, 'spo2'] = np.random.randint(80, 90)\n",
    "    \n",
    "    df.loc[idx, 'temperature'] = np.random.uniform(38.5, 40.0)\n",
    "\n",
    "print(f\"Injected {n_anomalies} anomalies into the dataset.\")\n"
   ]
  },
  {
   "cell_type": "markdown",
   "metadata": {},
   "source": [
    "anaomaly labels"
   ]
  },
  {
   "cell_type": "code",
   "execution_count": 4,
   "metadata": {
    "execution": {
     "iopub.execute_input": "2025-04-09T09:23:18.242377Z",
     "iopub.status.busy": "2025-04-09T09:23:18.242067Z",
     "iopub.status.idle": "2025-04-09T09:23:18.279057Z",
     "shell.execute_reply": "2025-04-09T09:23:18.278007Z",
     "shell.execute_reply.started": "2025-04-09T09:23:18.242354Z"
    },
    "trusted": true
   },
   "outputs": [
    {
     "name": "stdout",
     "output_type": "stream",
     "text": [
      "Distribution of true labels:\n",
      "true_label\n",
      "0    950\n",
      "1     50\n",
      "Name: count, dtype: int64\n"
     ]
    }
   ],
   "source": [
    "\n",
    "df['true_label'] = 0\n",
    "df.loc[anomalous_indices, 'true_label'] = 1  # Mark anomalies\n",
    "\n",
    "print(\"Distribution of true labels:\")\n",
    "print(df['true_label'].value_counts())\n"
   ]
  },
  {
   "cell_type": "markdown",
   "metadata": {},
   "source": [
    "Train an isolation forest model"
   ]
  },
  {
   "cell_type": "code",
   "execution_count": 5,
   "metadata": {
    "execution": {
     "iopub.execute_input": "2025-04-09T09:23:18.280352Z",
     "iopub.status.busy": "2025-04-09T09:23:18.280053Z",
     "iopub.status.idle": "2025-04-09T09:23:18.542833Z",
     "shell.execute_reply": "2025-04-09T09:23:18.541397Z",
     "shell.execute_reply.started": "2025-04-09T09:23:18.280299Z"
    },
    "trusted": true
   },
   "outputs": [
    {
     "name": "stdout",
     "output_type": "stream",
     "text": [
      "Isolation Forest training complete.\n"
     ]
    }
   ],
   "source": [
    "iso_forest = IsolationForest(\n",
    "    n_estimators=100,\n",
    "    contamination=0.05,\n",
    "    random_state=42\n",
    ")\n",
    "iso_forest.fit(df[['heart_rate', 'spo2', 'temperature']])\n",
    "print(\"Isolation Forest training complete.\")"
   ]
  },
  {
   "cell_type": "code",
   "execution_count": 6,
   "metadata": {
    "execution": {
     "iopub.execute_input": "2025-04-09T09:23:18.544128Z",
     "iopub.status.busy": "2025-04-09T09:23:18.543817Z",
     "iopub.status.idle": "2025-04-09T09:23:18.549782Z",
     "shell.execute_reply": "2025-04-09T09:23:18.548450Z",
     "shell.execute_reply.started": "2025-04-09T09:23:18.544104Z"
    },
    "trusted": true
   },
   "outputs": [],
   "source": [
    "new_data = pd.DataFrame({\n",
    "    'heart_rate': [72, 130, 45, 80, 68],\n",
    "    'spo2': [97, 85, 89, 96, 98],\n",
    "    'temperature': [37.2, 39.0, 38.8, 37.0, 36.9]\n",
    "})"
   ]
  },
  {
   "cell_type": "code",
   "execution_count": 7,
   "metadata": {
    "execution": {
     "iopub.execute_input": "2025-04-09T09:23:18.551226Z",
     "iopub.status.busy": "2025-04-09T09:23:18.550895Z",
     "iopub.status.idle": "2025-04-09T09:23:18.620281Z",
     "shell.execute_reply": "2025-04-09T09:23:18.618941Z",
     "shell.execute_reply.started": "2025-04-09T09:23:18.551201Z"
    },
    "trusted": true
   },
   "outputs": [
    {
     "name": "stdout",
     "output_type": "stream",
     "text": [
      "Predictions (0=normal, 1=anomaly): [0, 1, 1, 0, 0]\n"
     ]
    }
   ],
   "source": [
    "predictions = iso_forest.predict(new_data[['heart_rate', 'spo2', 'temperature']])\n",
    "predictions = [1 if p == -1 else 0 for p in predictions]\n",
    "print(\"Predictions (0=normal, 1=anomaly):\", predictions)"
   ]
  },
  {
   "cell_type": "markdown",
   "metadata": {},
   "source": [
    "detect anomalies"
   ]
  },
  {
   "cell_type": "code",
   "execution_count": 8,
   "metadata": {
    "execution": {
     "iopub.execute_input": "2025-04-09T09:23:18.623337Z",
     "iopub.status.busy": "2025-04-09T09:23:18.623013Z",
     "iopub.status.idle": "2025-04-09T09:23:18.706267Z",
     "shell.execute_reply": "2025-04-09T09:23:18.705291Z",
     "shell.execute_reply.started": "2025-04-09T09:23:18.623285Z"
    },
    "trusted": true
   },
   "outputs": [
    {
     "name": "stdout",
     "output_type": "stream",
     "text": [
      "Model Results on the Training Data:\n",
      "True Positives: 49\n",
      "False Positives: 1\n",
      "True Negatives: 949\n",
      "False Negatives: 1\n"
     ]
    }
   ],
   "source": [
    "\n",
    "preds = iso_forest.predict(df[['heart_rate', 'spo2', 'temperature']])\n",
    "df['model_pred'] = preds\n",
    "df['model_pred'] = df['model_pred'].map({1: 0, -1: 1})\n",
    "\n",
    "true_positives = ((df['model_pred'] == 1) & (df['true_label'] == 1)).sum()\n",
    "false_positives = ((df['model_pred'] == 1) & (df['true_label'] == 0)).sum()\n",
    "true_negatives = ((df['model_pred'] == 0) & (df['true_label'] == 0)).sum()\n",
    "false_negatives = ((df['model_pred'] == 0) & (df['true_label'] == 1)).sum()\n",
    "\n",
    "print(\"Model Results on the Training Data:\")\n",
    "print(f\"True Positives: {true_positives}\")\n",
    "print(f\"False Positives: {false_positives}\")\n",
    "print(f\"True Negatives: {true_negatives}\")\n",
    "print(f\"False Negatives: {false_negatives}\")\n"
   ]
  },
  {
   "cell_type": "markdown",
   "metadata": {},
   "source": [
    "plot"
   ]
  },
  {
   "cell_type": "code",
   "execution_count": 9,
   "metadata": {
    "execution": {
     "iopub.execute_input": "2025-04-09T09:23:18.708184Z",
     "iopub.status.busy": "2025-04-09T09:23:18.707674Z",
     "iopub.status.idle": "2025-04-09T09:23:19.141642Z",
     "shell.execute_reply": "2025-04-09T09:23:19.140430Z",
     "shell.execute_reply.started": "2025-04-09T09:23:18.708144Z"
    },
    "trusted": true
   },
   "outputs": [
    {
     "data": {
      "image/png": "[encoded data removed]",
      "text/plain": [
       "<Figure size 640x480 with 1 Axes>"
      ]
     },
     "metadata": {},
     "output_type": "display_data"
    }
   ],
   "source": [
    "\n",
    "normal_points = df[df['model_pred'] == 0]\n",
    "anomalies = df[df['model_pred'] == 1]\n",
    "\n",
    "plt.scatter(\n",
    "    normal_points['heart_rate'],\n",
    "    normal_points['spo2'],\n",
    "    label='Normal',\n",
    "    alpha=0.5\n",
    ")\n",
    "plt.scatter(\n",
    "    anomalies['heart_rate'],\n",
    "    anomalies['spo2'],\n",
    "    label='Anomaly',\n",
    "    alpha=0.5\n",
    ")\n",
    "\n",
    "plt.xlabel(\"Heart Rate\")\n",
    "plt.ylabel(\"SpO2\")\n",
    "plt.title(\"Isolation Forest Results (Heart Rate vs. SpO2)\")\n",
    "plt.legend()\n",
    "plt.show()\n"
   ]
  },
  {
   "cell_type": "markdown",
   "metadata": {},
   "source": [
    "test on new data"
   ]
  },
  {
   "cell_type": "code",
   "execution_count": 10,
   "metadata": {
    "execution": {
     "iopub.execute_input": "2025-04-09T09:23:19.142923Z",
     "iopub.status.busy": "2025-04-09T09:23:19.142619Z",
     "iopub.status.idle": "2025-04-09T09:23:19.204106Z",
     "shell.execute_reply": "2025-04-09T09:23:19.203045Z",
     "shell.execute_reply.started": "2025-04-09T09:23:19.142897Z"
    },
    "trusted": true
   },
   "outputs": [
    {
     "name": "stdout",
     "output_type": "stream",
     "text": [
      "New data sample:\n",
      "   heart_rate  spo2  temperature\n",
      "0          72    97         37.2\n",
      "1         130    85         39.0\n",
      "2          45    89         98.8\n",
      "3          80    76         37.0\n",
      "4          58     8         36.9\n",
      "Row 0: [72.  97.  37.2] => Normal\n",
      "Row 1: [130.  85.  39.] => Anomaly\n",
      "Row 2: [45.  89.  98.8] => Anomaly\n",
      "Row 3: [80. 76. 37.] => Anomaly\n",
      "Row 4: [58.   8.  36.9] => Anomaly\n"
     ]
    }
   ],
   "source": [
    "\n",
    "new_data = pd.DataFrame({\n",
    "    'heart_rate': [72, 130, 45, 80, 58],\n",
    "    'spo2': [97, 85, 89, 76, 8],\n",
    "    'temperature': [37.2, 39.0, 98.8, 37.0, 36.9]\n",
    "})\n",
    "\n",
    "print(\"New data sample:\")\n",
    "print(new_data)\n",
    "\n",
    "# Predict anomalies\n",
    "new_preds = iso_forest.predict(new_data)\n",
    "new_preds = [1 if p == -1 else 0 for p in new_preds]  # 1=anomaly, 0=normal\n",
    "\n",
    "for i, pred in enumerate(new_preds):\n",
    "    print(f\"Row {i}: {new_data.iloc[i].values} => {'Anomaly' if pred==1 else 'Normal'}\")\n"
   ]
  },
  {
   "cell_type": "markdown",
   "metadata": {},
   "source": [
    "another test"
   ]
  },
  {
   "cell_type": "code",
   "execution_count": 11,
   "metadata": {
    "execution": {
     "iopub.execute_input": "2025-04-09T10:35:59.411943Z",
     "iopub.status.busy": "2025-04-09T10:35:59.411536Z",
     "iopub.status.idle": "2025-04-09T10:35:59.469270Z",
     "shell.execute_reply": "2025-04-09T10:35:59.468286Z",
     "shell.execute_reply.started": "2025-04-09T10:35:59.411914Z"
    },
    "trusted": true
   },
   "outputs": [
    {
     "name": "stdout",
     "output_type": "stream",
     "text": [
      "New data sample:\n",
      "   heart_rate  spo2  temperature\n",
      "0          72    97           38\n",
      "Row 0: [72 97 38] => Normal\n"
     ]
    }
   ],
   "source": [
    "\n",
    "new_data = pd.DataFrame({\n",
    "    'heart_rate': [72],\n",
    "    'spo2': [97],\n",
    "    'temperature': [38]\n",
    "})\n",
    "\n",
    "print(\"New data sample:\")\n",
    "print(new_data)\n",
    "\n",
    "# Predict anomalies\n",
    "new_preds = iso_forest.predict(new_data)\n",
    "new_preds = [1 if p == -1 else 0 for p in new_preds]  # 1=anomaly, 0=normal\n",
    "\n",
    "for i, pred in enumerate(new_preds):\n",
    "    print(f\"Row {i}: {new_data.iloc[i].values} => {'Anomaly' if pred==1 else 'Normal'}\")\n"
   ]
  },
  {
   "cell_type": "code",
   "execution_count": 13,
   "metadata": {},
   "outputs": [
    {
     "name": "stdout",
     "output_type": "stream",
     "text": [
      "✅ Model exported to 'isoforest.joblib'\n"
     ]
    }
   ],
   "source": [
    "import joblib\n",
    "\n",
    "# Save the trained model\n",
    "joblib.dump(iso_forest, \"isoforest.joblib\")\n",
    "print(\"✅ Model exported to 'isoforest.joblib'\")\n"
   ]
  }
 ],
 "metadata": {
  "kaggle": {
   "accelerator": "none",
   "dataSources": [],
   "dockerImageVersionId": 30918,
   "isGpuEnabled": false,
   "isInternetEnabled": true,
   "language": "python",
   "sourceType": "notebook"
  },
  "kernelspec": {
   "display_name": "base",
   "language": "python",
   "name": "python3"
  },
  "language_info": {
   "codemirror_mode": {
    "name": "ipython",
    "version": 3
   },
   "file_extension": ".py",
   "mimetype": "text/x-python",
   "name": "python",
   "nbconvert_exporter": "python",
   "pygments_lexer": "ipython3",
   "version": "3.11.5"
  }
 },
 "nbformat": 4,
 "nbformat_minor": 4
}
